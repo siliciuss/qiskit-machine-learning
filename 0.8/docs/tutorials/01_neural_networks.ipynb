{
  "cells": [
    {
      "cell_type": "markdown",
      "id": "brilliant-cross",
      "metadata": {
        "id": "brilliant-cross"
      },
      "source": [
        "# Quantum Neural Networks\n",
        "\n",
        "## Overview\n",
        "This notebook demonstrates different quantum neural network (QNN) implementations provided in `qiskit-machine-learning`, and how they can be integrated into basic quantum machine learning (QML) workflows.\n",
        "\n",
        "The tutorial is structured as follows:\n",
        "\n",
        "1. [Introduction](#1.-Introduction)\n",
        "2. [How to Instantiate QNNs](#2.-How-to-Instantiate-QNNs)\n",
        "3. [How to Run a Forward Pass](#3.-How-to-Run-a-Forward-Pass)\n",
        "4. [How to Run a Backward Pass](#4.-How-to-Run-a-Backward-Pass)\n",
        "5. [Advanced Functionality](#5.-Advanced-Functionality)\n",
        "6. [Conclusion](#6.-Conclusion)"
      ]
    },
    {
      "cell_type": "markdown",
      "id": "efb9083a",
      "metadata": {
        "id": "efb9083a"
      },
      "source": [
        "## 1. Introduction\n",
        "\n",
        "### 1.1. Quantum vs. Classical Neural Networks\n",
        "\n",
        "Classical neural networks are algorithmic models inspired by the human brain that can be trained to recognize patterns in data and learn to solve complex problems. They are based on a series of interconnected nodes, or *neurons*, organized in a layered structure, with parameters that can be learned by applying machine or deep learning training strategies.\n",
        "\n",
        "The motivation behind quantum machine learning (QML) is to integrate notions from quantum computing and classical machine learning to open the way for new and improved learning schemes. QNNs apply this generic principle by combining classical neural networks and parametrized quantum circuits. Because they lie at an intersection between two fields, QNNs can be viewed from two perspectives:\n",
        "\n",
        "- From a **machine learning perspective**, QNNs are, once again, algorithmic models that can be trained to find hidden patterns in data in a similar manner to their classical counterparts. These models can **load** classical data (**inputs**) into a quantum state, and later **process** it with quantum gates parametrized by **trainable weights**. Figure 1 shows a generic QNN example including the data loading and processing steps. The output from measuring this state can then be plugged into a loss function to train the weights through backpropagation.\n",
        "\n",
        "- From a **quantum computing perspective**, QNNs are quantum algorithms based on parametrized quantum circuits that can be trained in a variational manner using classical optimizers. These circuits contain a **feature map** (with input parameters) and an **ansatz** (with trainable weights), as seen in Figure 1.\n",
        "\n",
        "![new_qnn-3.jpg](attachment:new_qnn-3.jpg)\n",
        "\n",
        "\n",
        "*Figure 1. Generic quantum neural network (QNN) structure.*"
      ]
    },
    {
      "cell_type": "markdown",
      "id": "f47d2070",
      "metadata": {
        "id": "f47d2070"
      },
      "source": [
        "As you can see, these two perspectives are complementary, and do not necessarily rely on strict definitions of concepts such as \"quantum neuron\" or what constitutes a QNN's \"layer\".\n",
        "\n",
        "### 1.2. Implementation in `qiskit-machine-learning`\n",
        "\n",
        "The QNNs in `qiskit-machine-learning` are meant as application-agnostic computational units that can be used for different use cases, and their setup will depend on the application they are needed for. The module contains an interface for the QNNs and two specific implementations:\n",
        "\n",
        "1. [NeuralNetwork](https://qiskit-community.github.io/qiskit-machine-learning/stubs/qiskit_machine_learning.neural_networks.NeuralNetwork.html): The interface for neural networks. This is an abstract class all QNNs inherit from.\n",
        "2. [EstimatorQNN](https://qiskit-community.github.io/qiskit-machine-learning/stubs/qiskit_machine_learning.neural_networks.EstimatorQNN.html): A network based on the evaluation of quantum mechanical observables.\n",
        "3. [SamplerQNN](https://qiskit-community.github.io/qiskit-machine-learning/locale/fr_FR/stubs/qiskit_machine_learning.neural_networks.SamplerQNN.html): A network based on the samples resulting from measuring a quantum circuit.\n",
        "\n",
        "\n",
        "These implementations are based on the [qiskit primitives](https://docs.quantum.ibm.com/api/qiskit/primitives). The primitives are the entry point to run QNNs on either a simulator or real quantum hardware. Each implementation, `EstimatorQNN` and `SamplerQNN`, takes in an optional instance of its corresponding primitive, which can be any subclass of `BaseEstimator` and `BaseSampler`, respectively.\n",
        "\n",
        "The `qiskit.primitives` module provides a reference implementation for the `Sampler` and `Estimator` classes to run statevector simulations. By default, if no instance is passed to a QNN class, an instance of the corresponding reference primitive (`Sampler` or `Estimator`) is created automatically by the network.\n",
        "For more information about primitives please refer to the [primitives documentation](https://docs.quantum.ibm.com/api/qiskit/primitives).\n",
        "\n",
        "The `NeuralNetwork` class is the interface for all QNNs available in `qiskit-machine-learning`.\n",
        "It exposes a forward and a backward pass that take data samples and trainable weights as input.\n",
        "\n",
        "It's important to note that `NeuralNetwork`s are \"stateless\". They do not contain any training capabilities (these are pushed to the actual algorithms or applications: [classifiers](https://qiskit-community.github.io/qiskit-machine-learning/apidocs/qiskit_machine_learning.algorithms.html#classifiers), [regressors](https://qiskit-community.github.io/qiskit-machine-learning/apidocs/qiskit_machine_learning.algorithms.html#regressors), etc), nor do they store the values for trainable weights."
      ]
    },
    {
      "cell_type": "markdown",
      "id": "ba316207",
      "metadata": {
        "id": "ba316207"
      },
      "source": [
        "***\n",
        "\n",
        "Let's now look into specific examples for the two `NeuralNetwork` implementations. But first, let's set the algorithmic seed to ensure that the results don't change between runs."
      ]
    },
    {
      "cell_type": "code",
      "execution_count": null,
      "id": "annual-engine",
      "metadata": {
        "id": "annual-engine"
      },
      "outputs": [],
      "source": [
        "from qiskit_machine_learning.utils import algorithm_globals\n",
        "\n",
        "algorithm_globals.random_seed = 42"
      ]
    },
    {
      "cell_type": "markdown",
      "id": "billion-uniform",
      "metadata": {
        "id": "billion-uniform"
      },
      "source": [
        "## 2. How to Instantiate QNNs\n",
        "\n",
        "### 2.1. `EstimatorQNN`\n",
        "\n",
        "The `EstimatorQNN` takes in a parametrized quantum circuit as input, as well as an optional quantum mechanical observable, and outputs expectation value computations for the forward pass. The `EstimatorQNN` also accepts lists of observables to construct more complex QNNs.\n",
        "\n",
        "Let's see an `EstimatorQNN` in action with a simple example. We start by constructing the parametrized circuit. This quantum circuit has two parameters, one represents a QNN input and the other represents a trainable weight:"
      ]
    },
    {
      "cell_type": "code",
      "execution_count": null,
      "id": "popular-artwork",
      "metadata": {
        "id": "popular-artwork",
        "outputId": "259a842b-8237-44eb-ae4b-29b6b47332ce"
      },
      "outputs": [
        {
          "data": {
            "image/png": "[encoded data removed]",
            "text/plain": [
              "<Figure size 352.675x117.056 with 1 Axes>"
            ]
          },
          "execution_count": 2,
          "metadata": {},
          "output_type": "execute_result"
        }
      ],
      "source": [
        "from qiskit.circuit import Parameter\n",
        "from qiskit import QuantumCircuit\n",
        "\n",
        "params1 = [Parameter(\"input1\"), Parameter(\"weight1\")]\n",
        "qc1 = QuantumCircuit(1)\n",
        "qc1.h(0)\n",
        "qc1.ry(params1[0], 0)\n",
        "qc1.rx(params1[1], 0)\n",
        "qc1.draw(\"mpl\", style=\"clifford\")"
      ]
    },
    {
      "cell_type": "markdown",
      "id": "crucial-aquatic",
      "metadata": {
        "id": "crucial-aquatic"
      },
      "source": [
        "We can now create an observable to define the expectation value computation. If not set, then the `EstimatorQNN` will automatically create the default observable $Z^{\\otimes n}$. Here, $n$ is the number of qubits of the quantum circuit.\n",
        "\n",
        "In this example, we will change things up and use the $Y^{\\otimes n}$ observable:"
      ]
    },
    {
      "cell_type": "code",
      "execution_count": null,
      "id": "encouraging-magnitude",
      "metadata": {
        "id": "encouraging-magnitude"
      },
      "outputs": [],
      "source": [
        "from qiskit.quantum_info import SparsePauliOp\n",
        "\n",
        "observable1 = SparsePauliOp.from_list([(\"Y\" * qc1.num_qubits, 1)])"
      ]
    },
    {
      "cell_type": "markdown",
      "id": "dd1fb7ea",
      "metadata": {
        "id": "dd1fb7ea"
      },
      "source": [
        "Together with the quantum circuit defined above, and the observable we have created, the `EstimatorQNN` constructor takes in the following keyword arguments:\n",
        "\n",
        "- `estimator`: optional primitive instance\n",
        "- `pass_manager`: optional pass_manager instance for primitives that require transpilation\n",
        "- `input_params`: list of quantum circuit parameters that should be treated as \"network inputs\"\n",
        "- `weight_params`: list of quantum circuit parameters that should be treated as \"network weights\"\n",
        "\n",
        "In this example, we previously decided that the first parameter of `params1` should be the input, while the second should be the weight. As we are performing a local statevector simulation, we will set the `estimator` parameter from `qiskit.primitives.StatevectorEstimator`. If we needed to access cloud resources or `Aer` simulators, we would have to define the respective `Estimator` instances and pass them to the `EstimatorQNN`. If transpilation is required an estimator such as `qiskit_ibm_runtime.EstimatorV2`, it is required to pass a `pass_manager` to the `EstimatorQNN`. In such case, please do not forget that  `observables` might require new layout according to the target."
      ]
    },
    {
      "cell_type": "code",
      "execution_count": null,
      "id": "italian-clear",
      "metadata": {
        "id": "italian-clear",
        "outputId": "ef0bf520-a015-461b-ecd5-2ce6c7d85665"
      },
      "outputs": [
        {
          "data": {
            "text/plain": [
              "<qiskit_machine_learning.neural_networks.estimator_qnn.EstimatorQNN at 0x7fc53dc0e200>"
            ]
          },
          "execution_count": 4,
          "metadata": {},
          "output_type": "execute_result"
        }
      ],
      "source": [
        "from qiskit_machine_learning.neural_networks import EstimatorQNN\n",
        "from qiskit.primitives import StatevectorEstimator as Estimator\n",
        "\n",
        "estimator = Estimator()\n",
        "estimator_qnn = EstimatorQNN(\n",
        "    circuit=qc1,\n",
        "    observables=observable1,\n",
        "    input_params=[params1[0]],\n",
        "    weight_params=[params1[1]],\n",
        "    estimator=estimator,\n",
        ")\n",
        "estimator_qnn"
      ]
    },
    {
      "cell_type": "markdown",
      "id": "16ecacdb",
      "metadata": {
        "id": "16ecacdb"
      },
      "source": [
        "We'll see how to use the QNN in the following sections, but before that, let's check out the `SamplerQNN` class."
      ]
    },
    {
      "cell_type": "markdown",
      "id": "f1ac3811",
      "metadata": {
        "id": "f1ac3811"
      },
      "source": [
        "### 2.2. `SamplerQNN`\n",
        "\n",
        "The `SamplerQNN` is instantiated in a similar way to the `EstimatorQNN`, but because it directly consumes samples from measuring the quantum circuit, it does not require a custom observable.\n",
        "\n",
        "These output samples are interpreted by default as the probabilities of measuring the integer index corresponding to a bitstring. However, the `SamplerQNN` also allows us to specify an `interpret` function to post-process the samples. This function should be defined so that it takes a measured integer (from a bitstring) and maps it to a new value, i.e. non-negative integer.\n",
        "\n",
        "**(!)** It's important to note that if a custom `interpret` function is defined, the `output_shape` cannot be inferred by the network, and **needs to be provided explicitly**.\n",
        "\n",
        "**(!)** It's also important to keep in mind that if no `interpret` function is used, the dimension of the probability vector will scale exponentially with the number of qubits. With a custom `interpret` function, this scaling can change. If, for instance, an index is mapped to the parity of the corresponding bitstring, i.e., to 0 or 1, the result will be a probability vector of length 2 independently of the number of qubits."
      ]
    },
    {
      "cell_type": "markdown",
      "id": "82cc2353",
      "metadata": {
        "id": "82cc2353"
      },
      "source": [
        "Let's create a different quantum circuit for the `SamplerQNN`. In this case, we will have two input parameters and four trainable weights that parametrize a  two-local circuit."
      ]
    },
    {
      "cell_type": "code",
      "execution_count": null,
      "id": "acceptable-standing",
      "metadata": {
        "id": "acceptable-standing",
        "outputId": "e70c1d71-f2b6-471a-f239-b3b6777a8f02"
      },
      "outputs": [
        {
          "name": "stdout",
          "output_type": "stream",
          "text": [
            "input parameters: ['input[0]', 'input[1]']\n",
            "weight parameters: ['weight[0]', 'weight[1]', 'weight[2]', 'weight[3]']\n"
          ]
        },
        {
          "data": {
            "image/png": "[encoded data removed]",
            "text/plain": [
              "<Figure size 538.128x200.667 with 1 Axes>"
            ]
          },
          "execution_count": 5,
          "metadata": {},
          "output_type": "execute_result"
        }
      ],
      "source": [
        "from qiskit.circuit import ParameterVector\n",
        "\n",
        "inputs2 = ParameterVector(\"input\", 2)\n",
        "weights2 = ParameterVector(\"weight\", 4)\n",
        "print(f\"input parameters: {[str(item) for item in inputs2.params]}\")\n",
        "print(f\"weight parameters: {[str(item) for item in weights2.params]}\")\n",
        "\n",
        "qc2 = QuantumCircuit(2)\n",
        "qc2.ry(inputs2[0], 0)\n",
        "qc2.ry(inputs2[1], 1)\n",
        "qc2.cx(0, 1)\n",
        "qc2.ry(weights2[0], 0)\n",
        "qc2.ry(weights2[1], 1)\n",
        "qc2.cx(0, 1)\n",
        "qc2.ry(weights2[2], 0)\n",
        "qc2.ry(weights2[3], 1)\n",
        "\n",
        "qc2.draw(\"mpl\", style=\"clifford\")"
      ]
    },
    {
      "cell_type": "markdown",
      "id": "1e86defb",
      "metadata": {
        "id": "1e86defb"
      },
      "source": [
        "Similarly to the `EstimatorQNN`, we must specify inputs and weights when instantiating the `SamplerQNN`. In this case, the keyword arguments will be:\n",
        "\n",
        "- `sampler`: optional primitive instance\n",
        "- `pass_manager`: optional pass_manager instance for primitives that require transpilation.\n",
        "- `input_params`: list of quantum circuit parameters that should be treated as \"network inputs\"\n",
        "- `weight_params`: list of quantum circuit parameters that should be treated as \"network weights\"\n",
        "\n",
        "\n",
        "Please note that, once again, we are setting the `StatevectorSampler` instance from `qiskit.primitives` to the QNN and relying on `statevector`."
      ]
    },
    {
      "cell_type": "code",
      "execution_count": null,
      "id": "5c007d10",
      "metadata": {
        "id": "5c007d10",
        "outputId": "7d33629d-aba4-4b41-cc45-fe4ca5746d9c"
      },
      "outputs": [
        {
          "data": {
            "text/plain": [
              "<qiskit_machine_learning.neural_networks.sampler_qnn.SamplerQNN at 0x7fc577764760>"
            ]
          },
          "execution_count": 6,
          "metadata": {},
          "output_type": "execute_result"
        }
      ],
      "source": [
        "from qiskit_machine_learning.neural_networks import SamplerQNN\n",
        "from qiskit.primitives import StatevectorSampler as Sampler\n",
        "\n",
        "sampler = Sampler()\n",
        "sampler_qnn = SamplerQNN(circuit=qc2, input_params=inputs2, weight_params=weights2, sampler=sampler)\n",
        "sampler_qnn"
      ]
    },
    {
      "cell_type": "markdown",
      "id": "e8c56e76",
      "metadata": {
        "id": "e8c56e76"
      },
      "source": [
        "In addition to the basic arguments shown above, the `SamplerQNN` accepts three more settings: `input_gradients`, `interpret`, and `output_shape`. These will be introduced in sections 4 and 5."
      ]
    },
    {
      "cell_type": "markdown",
      "id": "0ac89b99",
      "metadata": {
        "id": "0ac89b99"
      },
      "source": [
        "## 3. How to Run a Forward Pass"
      ]
    },
    {
      "cell_type": "markdown",
      "id": "8589abbd",
      "metadata": {
        "id": "8589abbd"
      },
      "source": [
        "### 3.1. Set-Up\n",
        "In a real setting, the inputs would be defined by the dataset, and the weights would be defined by the training algorithm or as part of a pre-trained model. However, for the sake of this tutorial, we will specify random sets of input and weights of the right dimension:"
      ]
    },
    {
      "cell_type": "markdown",
      "id": "2698406f",
      "metadata": {
        "id": "2698406f"
      },
      "source": [
        "#### 3.1.1. `EstimatorQNN` Example"
      ]
    },
    {
      "cell_type": "code",
      "execution_count": null,
      "id": "beneficial-summary",
      "metadata": {
        "id": "beneficial-summary"
      },
      "outputs": [],
      "source": [
        "estimator_qnn_input = algorithm_globals.random.random(estimator_qnn.num_inputs)\n",
        "estimator_qnn_weights = algorithm_globals.random.random(estimator_qnn.num_weights)"
      ]
    },
    {
      "cell_type": "code",
      "execution_count": null,
      "id": "4d5c27e2",
      "metadata": {
        "id": "4d5c27e2",
        "outputId": "f8ad9f7e-7181-4bbc-c3f7-d3584dc1528f"
      },
      "outputs": [
        {
          "name": "stdout",
          "output_type": "stream",
          "text": [
            "Number of input features for EstimatorQNN: 1 \n",
            "Input: [0.77395605]\n",
            "Number of trainable weights for EstimatorQNN: 1 \n",
            "Weights: [0.43887844]\n"
          ]
        }
      ],
      "source": [
        "print(\n",
        "    f\"Number of input features for EstimatorQNN: {estimator_qnn.num_inputs} \\nInput: {estimator_qnn_input}\"\n",
        ")\n",
        "print(\n",
        "    f\"Number of trainable weights for EstimatorQNN: {estimator_qnn.num_weights} \\nWeights: {estimator_qnn_weights}\"\n",
        ")"
      ]
    },
    {
      "cell_type": "markdown",
      "id": "81d07341",
      "metadata": {
        "id": "81d07341"
      },
      "source": [
        "#### 3.1.2. `SamplerQNN` Example"
      ]
    },
    {
      "cell_type": "code",
      "execution_count": null,
      "id": "a0fd6253",
      "metadata": {
        "scrolled": true,
        "id": "a0fd6253"
      },
      "outputs": [],
      "source": [
        "sampler_qnn_input = algorithm_globals.random.random(sampler_qnn.num_inputs)\n",
        "sampler_qnn_weights = algorithm_globals.random.random(sampler_qnn.num_weights)"
      ]
    },
    {
      "cell_type": "code",
      "execution_count": null,
      "id": "a008cebc",
      "metadata": {
        "id": "a008cebc",
        "outputId": "adfd2be5-cb28-4b34-a20d-6f30dc97b2b2"
      },
      "outputs": [
        {
          "name": "stdout",
          "output_type": "stream",
          "text": [
            "Number of input features for SamplerQNN: 2 \n",
            "Input: [0.85859792 0.69736803]\n",
            "Number of trainable weights for SamplerQNN: 4 \n",
            "Weights: [0.09417735 0.97562235 0.7611397  0.78606431]\n"
          ]
        }
      ],
      "source": [
        "print(\n",
        "    f\"Number of input features for SamplerQNN: {sampler_qnn.num_inputs} \\nInput: {sampler_qnn_input}\"\n",
        ")\n",
        "print(\n",
        "    f\"Number of trainable weights for SamplerQNN: {sampler_qnn.num_weights} \\nWeights: {sampler_qnn_weights}\"\n",
        ")"
      ]
    },
    {
      "cell_type": "markdown",
      "id": "7f1500df",
      "metadata": {
        "id": "7f1500df"
      },
      "source": [
        "Once we have the inputs and the weights, let's see the results for batched and non-batched passes."
      ]
    },
    {
      "cell_type": "markdown",
      "id": "de7e7302",
      "metadata": {
        "id": "de7e7302"
      },
      "source": [
        "### 3.2. Non-batched Forward Pass"
      ]
    },
    {
      "cell_type": "markdown",
      "id": "52c5fcc5",
      "metadata": {
        "id": "52c5fcc5"
      },
      "source": [
        "#### 3.2.1. `EstimatorQNN` Example"
      ]
    },
    {
      "cell_type": "markdown",
      "id": "7fba01a3",
      "metadata": {
        "id": "7fba01a3"
      },
      "source": [
        "For the `EstimatorQNN`, the expected output shape for the forward pass is `(1, num_qubits * num_observables)` where `1` in our case is the number of samples:"
      ]
    },
    {
      "cell_type": "code",
      "execution_count": null,
      "id": "54bed89e",
      "metadata": {
        "id": "54bed89e",
        "outputId": "f38b9fc3-3cb5-4119-cc6a-42f3ec333fa2"
      },
      "outputs": [
        {
          "name": "stdout",
          "output_type": "stream",
          "text": [
            "Forward pass result for EstimatorQNN: [[0.2970094]]. \n",
            "Shape: (1, 1)\n"
          ]
        }
      ],
      "source": [
        "estimator_qnn_forward = estimator_qnn.forward(estimator_qnn_input, estimator_qnn_weights)\n",
        "\n",
        "print(\n",
        "    f\"Forward pass result for EstimatorQNN: {estimator_qnn_forward}. \\nShape: {estimator_qnn_forward.shape}\"\n",
        ")"
      ]
    },
    {
      "cell_type": "markdown",
      "id": "4ea4f85e",
      "metadata": {
        "id": "4ea4f85e"
      },
      "source": [
        "#### 3.2.2. `SamplerQNN` Example"
      ]
    },
    {
      "cell_type": "markdown",
      "id": "94473b35",
      "metadata": {
        "id": "94473b35"
      },
      "source": [
        "For the `SamplerQNN` (without a custom interpret function), the expected output shape for the forward pass is `(1, 2**num_qubits)`. With a custom interpret function, the output shape will be `(1, output_shape)`, where `1` in our case is the number of samples:"
      ]
    },
    {
      "cell_type": "code",
      "execution_count": null,
      "id": "cb847a75",
      "metadata": {
        "id": "cb847a75",
        "outputId": "e2f0d933-0af1-4a43-fab2-bf578149fe8b"
      },
      "outputs": [
        {
          "name": "stdout",
          "output_type": "stream",
          "text": [
            "Forward pass result for SamplerQNN: [[0.01826527 0.25735654 0.5267981  0.19758009]].  \n",
            "Shape: (1, 4)\n"
          ]
        }
      ],
      "source": [
        "sampler_qnn_forward = sampler_qnn.forward(sampler_qnn_input, sampler_qnn_weights)\n",
        "\n",
        "print(\n",
        "    f\"Forward pass result for SamplerQNN: {sampler_qnn_forward}.  \\nShape: {sampler_qnn_forward.shape}\"\n",
        ")"
      ]
    },
    {
      "cell_type": "markdown",
      "id": "1c843c95",
      "metadata": {
        "id": "1c843c95"
      },
      "source": [
        "### 3.3. Batched Forward Pass"
      ]
    },
    {
      "cell_type": "markdown",
      "id": "9c51e2fc",
      "metadata": {
        "id": "9c51e2fc"
      },
      "source": [
        "#### 3.3.1. `EstimatorQNN` Example"
      ]
    },
    {
      "cell_type": "markdown",
      "id": "3612ff46",
      "metadata": {
        "id": "3612ff46"
      },
      "source": [
        "For the `EstimatorQNN`, the expected output shape for the forward pass is `(batch_size, num_qubits * num_observables)`:"
      ]
    },
    {
      "cell_type": "code",
      "execution_count": null,
      "id": "2629892e",
      "metadata": {
        "id": "2629892e",
        "outputId": "4325ec0d-46e3-4948-89b3-1e6d6b98e17f"
      },
      "outputs": [
        {
          "name": "stdout",
          "output_type": "stream",
          "text": [
            "Forward pass result for EstimatorQNN: [[0.2970094]\n",
            " [0.2970094]].  \n",
            "Shape: (2, 1)\n"
          ]
        }
      ],
      "source": [
        "estimator_qnn_forward_batched = estimator_qnn.forward(\n",
        "    [estimator_qnn_input, estimator_qnn_input], estimator_qnn_weights\n",
        ")\n",
        "\n",
        "print(\n",
        "    f\"Forward pass result for EstimatorQNN: {estimator_qnn_forward_batched}.  \\nShape: {estimator_qnn_forward_batched.shape}\"\n",
        ")"
      ]
    },
    {
      "cell_type": "markdown",
      "id": "acb7b0a7",
      "metadata": {
        "id": "acb7b0a7"
      },
      "source": [
        "#### 3.3.2. `SamplerQNN` Example"
      ]
    },
    {
      "cell_type": "markdown",
      "id": "48f7b7bb",
      "metadata": {
        "id": "48f7b7bb"
      },
      "source": [
        "For the `SamplerQNN` (without custom interpret function), the expected output shape for the forward pass is `(batch_size, 2**num_qubits)`. With a custom interpret function, the output shape will be `(batch_size, output_shape)`."
      ]
    },
    {
      "cell_type": "code",
      "execution_count": null,
      "id": "29eb2151",
      "metadata": {
        "id": "29eb2151",
        "outputId": "4b5bc80d-d0f2-4682-ece8-51e2e3540c92"
      },
      "outputs": [
        {
          "name": "stdout",
          "output_type": "stream",
          "text": [
            "Forward pass result for SamplerQNN: [[0.01826527 0.25735654 0.5267981  0.19758009]\n",
            " [0.01826527 0.25735654 0.5267981  0.19758009]].  \n",
            "Shape: (2, 4)\n"
          ]
        }
      ],
      "source": [
        "sampler_qnn_forward_batched = sampler_qnn.forward(\n",
        "    [sampler_qnn_input, sampler_qnn_input], sampler_qnn_weights\n",
        ")\n",
        "\n",
        "print(\n",
        "    f\"Forward pass result for SamplerQNN: {sampler_qnn_forward_batched}.  \\nShape: {sampler_qnn_forward_batched.shape}\"\n",
        ")"
      ]
    },
    {
      "cell_type": "markdown",
      "id": "171b8ee1",
      "metadata": {
        "id": "171b8ee1"
      },
      "source": [
        "## 4. How to Run a Backward Pass\n",
        "\n",
        "Let's take advantage of the inputs and weights defined above to show how the backward pass works. This pass returns a tuple `(input_gradients, weight_gradients)`. By default, the backward pass will only calculate gradients with respect to the weight parameters.\n",
        "\n",
        "If you want to enable gradients with respect to the input parameters, you should set the following flag during the QNN instantiation:\n",
        "\n",
        "```python\n",
        "qnn = ...QNN(..., input_gradients=True)\n",
        "```\n",
        "\n",
        "Please remember that input gradients are **required** for the use of `TorchConnector` for PyTorch integration."
      ]
    },
    {
      "cell_type": "markdown",
      "id": "e5b90338",
      "metadata": {
        "id": "e5b90338"
      },
      "source": [
        "### 4.1. Backward Pass without Input Gradients"
      ]
    },
    {
      "cell_type": "markdown",
      "id": "fe1a6c32",
      "metadata": {
        "id": "fe1a6c32"
      },
      "source": [
        "#### 4.1.1. `EstimatorQNN` Example"
      ]
    },
    {
      "cell_type": "markdown",
      "id": "387c9700",
      "metadata": {
        "id": "387c9700"
      },
      "source": [
        "For the `EstimatorQNN`, the expected output shape for the weight gradients is `(batch_size, num_qubits * num_observables, num_weights)`:"
      ]
    },
    {
      "cell_type": "code",
      "execution_count": null,
      "id": "entitled-reaction",
      "metadata": {
        "scrolled": false,
        "id": "entitled-reaction",
        "outputId": "17a74152-0341-48ef-870e-9879c3c8aa4a"
      },
      "outputs": [
        {
          "name": "stdout",
          "output_type": "stream",
          "text": [
            "Input gradients for EstimatorQNN: None.  \n",
            "Shape: None\n",
            "Weight gradients for EstimatorQNN: [[[0.63272767]]].  \n",
            "Shape: (1, 1, 1)\n"
          ]
        }
      ],
      "source": [
        "estimator_qnn_input_grad, estimator_qnn_weight_grad = estimator_qnn.backward(\n",
        "    estimator_qnn_input, estimator_qnn_weights\n",
        ")\n",
        "\n",
        "print(\n",
        "    f\"Input gradients for EstimatorQNN: {estimator_qnn_input_grad}.  \\nShape: {estimator_qnn_input_grad}\"\n",
        ")\n",
        "print(\n",
        "    f\"Weight gradients for EstimatorQNN: {estimator_qnn_weight_grad}.  \\nShape: {estimator_qnn_weight_grad.shape}\"\n",
        ")"
      ]
    },
    {
      "cell_type": "markdown",
      "id": "6d5feb04",
      "metadata": {
        "id": "6d5feb04"
      },
      "source": [
        "#### 4.1.2. `SamplerQNN` Example"
      ]
    },
    {
      "cell_type": "markdown",
      "id": "bebaa404",
      "metadata": {
        "id": "bebaa404"
      },
      "source": [
        "For the `SamplerQNN` (without custom interpret function), the expected output shape for the forward pass is `(batch_size, 2**num_qubits, num_weights)`. With a custom interpret function, the output shape will be `(batch_size, output_shape, num_weights)`.:"
      ]
    },
    {
      "cell_type": "code",
      "execution_count": null,
      "id": "eefacefe",
      "metadata": {
        "id": "eefacefe",
        "outputId": "dce36b32-2eeb-48f6-e174-d1688ad0628e"
      },
      "outputs": [
        {
          "name": "stdout",
          "output_type": "stream",
          "text": [
            "Input gradients for SamplerQNN: None.  \n",
            "Shape: None\n",
            "Weight gradients for SamplerQNN: [[[ 0.00606238 -0.1124595  -0.06856156 -0.09809236]\n",
            "  [ 0.21167414 -0.09069775  0.06856156 -0.22549618]\n",
            "  [-0.48846674  0.32499215 -0.32262178  0.09809236]\n",
            "  [ 0.27073021 -0.12183491  0.32262178  0.22549618]]].  \n",
            "Shape: (1, 4, 4)\n"
          ]
        }
      ],
      "source": [
        "sampler_qnn_input_grad, sampler_qnn_weight_grad = sampler_qnn.backward(\n",
        "    sampler_qnn_input, sampler_qnn_weights\n",
        ")\n",
        "\n",
        "print(\n",
        "    f\"Input gradients for SamplerQNN: {sampler_qnn_input_grad}.  \\nShape: {sampler_qnn_input_grad}\"\n",
        ")\n",
        "print(\n",
        "    f\"Weight gradients for SamplerQNN: {sampler_qnn_weight_grad}.  \\nShape: {sampler_qnn_weight_grad.shape}\"\n",
        ")"
      ]
    },
    {
      "cell_type": "markdown",
      "id": "74d28a00",
      "metadata": {
        "id": "74d28a00"
      },
      "source": [
        "### 4.2. Backward Pass with Input Gradients\n",
        "\n",
        "Let's enable the `input_gradients` to show what the expected output sizes are for this option."
      ]
    },
    {
      "cell_type": "code",
      "execution_count": null,
      "id": "9ccc4641",
      "metadata": {
        "id": "9ccc4641"
      },
      "outputs": [],
      "source": [
        "estimator_qnn.input_gradients = True\n",
        "sampler_qnn.input_gradients = True"
      ]
    },
    {
      "cell_type": "markdown",
      "id": "f5d2cd57",
      "metadata": {
        "id": "f5d2cd57"
      },
      "source": [
        "#### 4.2.1. `EstimatorQNN` Example"
      ]
    },
    {
      "cell_type": "markdown",
      "id": "9d1ebc80",
      "metadata": {
        "id": "9d1ebc80"
      },
      "source": [
        "For the `EstimatorQNN`, the expected output shape for the input gradients is `(batch_size, num_qubits * num_observables, num_inputs)`:"
      ]
    },
    {
      "cell_type": "code",
      "execution_count": null,
      "id": "4332f42b",
      "metadata": {
        "id": "4332f42b",
        "outputId": "5b8cb508-31c7-4534-92e9-f2fdcacc3a62"
      },
      "outputs": [
        {
          "name": "stdout",
          "output_type": "stream",
          "text": [
            "Input gradients for EstimatorQNN: [[[0.3038852]]].  \n",
            "Shape: (1, 1, 1)\n",
            "Weight gradients for EstimatorQNN: [[[0.63272767]]].  \n",
            "Shape: (1, 1, 1)\n"
          ]
        }
      ],
      "source": [
        "estimator_qnn_input_grad, estimator_qnn_weight_grad = estimator_qnn.backward(\n",
        "    estimator_qnn_input, estimator_qnn_weights\n",
        ")\n",
        "\n",
        "print(\n",
        "    f\"Input gradients for EstimatorQNN: {estimator_qnn_input_grad}.  \\nShape: {estimator_qnn_input_grad.shape}\"\n",
        ")\n",
        "print(\n",
        "    f\"Weight gradients for EstimatorQNN: {estimator_qnn_weight_grad}.  \\nShape: {estimator_qnn_weight_grad.shape}\"\n",
        ")"
      ]
    },
    {
      "cell_type": "markdown",
      "id": "d3e50ff8",
      "metadata": {
        "id": "d3e50ff8"
      },
      "source": [
        "#### 4.2.2. `SamplerQNN` Example"
      ]
    },
    {
      "cell_type": "markdown",
      "id": "b76da18a",
      "metadata": {
        "id": "b76da18a"
      },
      "source": [
        "For the `SamplerQNN` (without custom interpret function), the expected output shape for the input gradients is `(batch_size, 2**num_qubits, num_inputs)`. With a custom interpret function, the output shape will be `(batch_size, output_shape, num_inputs)`."
      ]
    },
    {
      "cell_type": "code",
      "execution_count": null,
      "id": "3339f869",
      "metadata": {
        "id": "3339f869",
        "outputId": "ba0563e4-c06a-48cd-c09f-1a4c40dbfae4"
      },
      "outputs": [
        {
          "name": "stdout",
          "output_type": "stream",
          "text": [
            "Input gradients for SamplerQNN: [[[-0.05844702 -0.10621091]\n",
            "  [ 0.38798796 -0.19544083]\n",
            "  [-0.34561132  0.09459601]\n",
            "  [ 0.01607038  0.20705573]]].  \n",
            "Shape: (1, 4, 2)\n",
            "Weight gradients for SamplerQNN: [[[ 0.00606238 -0.1124595  -0.06856156 -0.09809236]\n",
            "  [ 0.21167414 -0.09069775  0.06856156 -0.22549618]\n",
            "  [-0.48846674  0.32499215 -0.32262178  0.09809236]\n",
            "  [ 0.27073021 -0.12183491  0.32262178  0.22549618]]].  \n",
            "Shape: (1, 4, 4)\n"
          ]
        }
      ],
      "source": [
        "sampler_qnn_input_grad, sampler_qnn_weight_grad = sampler_qnn.backward(\n",
        "    sampler_qnn_input, sampler_qnn_weights\n",
        ")\n",
        "\n",
        "print(\n",
        "    f\"Input gradients for SamplerQNN: {sampler_qnn_input_grad}.  \\nShape: {sampler_qnn_input_grad.shape}\"\n",
        ")\n",
        "print(\n",
        "    f\"Weight gradients for SamplerQNN: {sampler_qnn_weight_grad}.  \\nShape: {sampler_qnn_weight_grad.shape}\"\n",
        ")"
      ]
    },
    {
      "cell_type": "markdown",
      "id": "45871b6d",
      "metadata": {
        "id": "45871b6d"
      },
      "source": [
        "## 5. Advanced Functionality"
      ]
    },
    {
      "cell_type": "markdown",
      "id": "4e1fb829",
      "metadata": {
        "id": "4e1fb829"
      },
      "source": [
        "### 5.1. `EstimatorQNN` with Multiple Observables"
      ]
    },
    {
      "cell_type": "markdown",
      "id": "18c86fd7",
      "metadata": {
        "id": "18c86fd7"
      },
      "source": [
        "The `EstimatorQNN` allows to pass lists of observables for more complex QNN architectures. For example (note the change in output shape):"
      ]
    },
    {
      "cell_type": "code",
      "execution_count": null,
      "id": "34e1e2f0",
      "metadata": {
        "id": "34e1e2f0"
      },
      "outputs": [],
      "source": [
        "observable2 = SparsePauliOp.from_list([(\"Z\" * qc1.num_qubits, 1)])\n",
        "\n",
        "estimator_qnn2 = EstimatorQNN(\n",
        "    circuit=qc1,\n",
        "    observables=[observable1, observable2],\n",
        "    input_params=[params1[0]],\n",
        "    weight_params=[params1[1]],\n",
        "    estimator=estimator,\n",
        ")"
      ]
    },
    {
      "cell_type": "code",
      "execution_count": null,
      "id": "e801632d",
      "metadata": {
        "id": "e801632d",
        "outputId": "ffb49c98-ab5b-4fe3-cdca-dc2a76a3f8f6"
      },
      "outputs": [
        {
          "name": "stdout",
          "output_type": "stream",
          "text": [
            "Forward output for EstimatorQNN1: (1, 1)\n",
            "Forward output for EstimatorQNN2: (1, 2)\n",
            "Backward output for EstimatorQNN1: (1, 1, 1)\n",
            "Backward output for EstimatorQNN2: (1, 2, 1)\n"
          ]
        }
      ],
      "source": [
        "estimator_qnn_forward2 = estimator_qnn2.forward(estimator_qnn_input, estimator_qnn_weights)\n",
        "estimator_qnn_input_grad2, estimator_qnn_weight_grad2 = estimator_qnn2.backward(\n",
        "    estimator_qnn_input, estimator_qnn_weights\n",
        ")\n",
        "\n",
        "print(f\"Forward output for EstimatorQNN1: {estimator_qnn_forward.shape}\")\n",
        "print(f\"Forward output for EstimatorQNN2: {estimator_qnn_forward2.shape}\")\n",
        "print(f\"Backward output for EstimatorQNN1: {estimator_qnn_weight_grad.shape}\")\n",
        "print(f\"Backward output for EstimatorQNN2: {estimator_qnn_weight_grad2.shape}\")"
      ]
    },
    {
      "cell_type": "markdown",
      "id": "788ec9f1",
      "metadata": {
        "id": "788ec9f1"
      },
      "source": [
        "### 5.2. `SamplerQNN` with custom `interpret`"
      ]
    },
    {
      "cell_type": "markdown",
      "id": "378ef3ba",
      "metadata": {
        "id": "378ef3ba"
      },
      "source": [
        "One common `interpret` method for `SamplerQNN` is the `parity` function, which allows it to perform binary classification. As explained in the instantiation section, using interpret functions will modify the output shape of the forward and backward passes. In the case of the parity interpret function, `output_shape` is fixed to `2`. Therefore, the expected forward and weight gradient shapes are `(batch_size, 2)` and `(batch_size, 2, num_weights)`, respectively:"
      ]
    },
    {
      "cell_type": "code",
      "execution_count": null,
      "id": "eed68d1a",
      "metadata": {
        "id": "eed68d1a"
      },
      "outputs": [],
      "source": [
        "parity = lambda x: \"{:b}\".format(x).count(\"1\") % 2\n",
        "output_shape = 2  # parity = 0, 1\n",
        "\n",
        "sampler_qnn2 = SamplerQNN(\n",
        "    circuit=qc2,\n",
        "    input_params=inputs2,\n",
        "    weight_params=weights2,\n",
        "    interpret=parity,\n",
        "    output_shape=output_shape,\n",
        "    sampler=sampler,\n",
        ")"
      ]
    },
    {
      "cell_type": "code",
      "execution_count": null,
      "id": "c2888195",
      "metadata": {
        "id": "c2888195",
        "outputId": "7302714c-9db3-42d0-993d-556db926819b"
      },
      "outputs": [
        {
          "name": "stdout",
          "output_type": "stream",
          "text": [
            "Forward output for SamplerQNN1: (1, 4)\n",
            "Forward output for SamplerQNN2: (1, 2)\n",
            "Backward output for SamplerQNN1: (1, 4, 4)\n",
            "Backward output for SamplerQNN2: (1, 2, 4)\n"
          ]
        }
      ],
      "source": [
        "sampler_qnn_forward2 = sampler_qnn2.forward(sampler_qnn_input, sampler_qnn_weights)\n",
        "sampler_qnn_input_grad2, sampler_qnn_weight_grad2 = sampler_qnn2.backward(\n",
        "    sampler_qnn_input, sampler_qnn_weights\n",
        ")\n",
        "\n",
        "print(f\"Forward output for SamplerQNN1: {sampler_qnn_forward.shape}\")\n",
        "print(f\"Forward output for SamplerQNN2: {sampler_qnn_forward2.shape}\")\n",
        "print(f\"Backward output for SamplerQNN1: {sampler_qnn_weight_grad.shape}\")\n",
        "print(f\"Backward output for SamplerQNN2: {sampler_qnn_weight_grad2.shape}\")"
      ]
    },
    {
      "cell_type": "markdown",
      "id": "66117e82",
      "metadata": {
        "id": "66117e82"
      },
      "source": [
        "## 6. Conclusion\n",
        "\n",
        "In this tutorial, we introduced the two neural networks classes provided by `qiskit-machine-learning`, namely the `EstimatorQNN` and `SamplerQNN`, which extend the base `NeuralNetwork` class. We provided some theoretical background, the key steps for QNN initialization, basic use in forward and backward passes, and advanced functionality.\n",
        "\n",
        "We now encourage you to play around with the problem setup and see how different circuit sizes, input, and weight parameter lengths influence the output shapes.\n",
        "\n"
      ]
    },
    {
      "cell_type": "code",
      "execution_count": null,
      "id": "appointed-shirt",
      "metadata": {
        "pycharm": {
          "name": "#%%\n"
        },
        "id": "appointed-shirt",
        "outputId": "fc5e7d1f-f8e3-4298-a975-1fdd6c971cb6"
      },
      "outputs": [
        {
          "data": {
            "text/html": [
              "<h3>Version Information</h3><table><tr><th>Software</th><th>Version</th></tr><tr><td><code>qiskit</code></td><td>0.45.2</td></tr><tr><td><code>qiskit_machine_learning</code></td><td>0.7.1</td></tr><tr><td><code>qiskit_algorithms</code></td><td>0.2.2</td></tr><tr><th colspan='2'>System information</th></tr><tr><td>Python version</td><td>3.10.13</td></tr><tr><td>Python compiler</td><td>GCC 9.4.0</td></tr><tr><td>Python build</td><td>main, Jan 10 2024 19:45:45</td></tr><tr><td>OS</td><td>Linux</td></tr><tr><td>CPUs</td><td>1</td></tr><tr><td>Memory (Gb)</td><td>7.744113922119141</td></tr><tr><td colspan='2'>Wed Jan 24 06:40:10 2024 UTC</td></tr></table>"
            ],
            "text/plain": [
              "<IPython.core.display.HTML object>"
            ]
          },
          "metadata": {},
          "output_type": "display_data"
        },
        {
          "data": {
            "text/html": [
              "<div style='width: 100%; background-color:#d5d9e0;padding-left: 10px; padding-bottom: 10px; padding-right: 10px; padding-top: 5px'><h3>This code is a part of Qiskit</h3><p>&copy; Copyright IBM 2017, 2024.</p><p>This code is licensed under the Apache License, Version 2.0. You may<br>obtain a copy of this license in the LICENSE.txt file in the root directory<br> of this source tree or at http://www.apache.org/licenses/LICENSE-2.0.<p>Any modifications or derivative works of this code must retain this<br>copyright notice, and modified files need to carry a notice indicating<br>that they have been altered from the originals.</p></div>"
            ],
            "text/plain": [
              "<IPython.core.display.HTML object>"
            ]
          },
          "metadata": {},
          "output_type": "display_data"
        }
      ],
      "source": [
        "import tutorial_magics\n",
        "\n",
        "%qiskit_version_table\n",
        "%qiskit_copyright"
      ]
    }
  ],
  "metadata": {
    "kernelspec": {
      "display_name": "Python 3 (ipykernel)",
      "language": "python",
      "name": "python3"
    },
    "language_info": {
      "codemirror_mode": {
        "name": "ipython",
        "version": 3
      },
      "file_extension": ".py",
      "mimetype": "text/x-python",
      "name": "python",
      "nbconvert_exporter": "python",
      "pygments_lexer": "ipython3",
      "version": "3.10.13"
    },
    "colab": {
      "provenance": []
    }
  },
  "nbformat": 4,
  "nbformat_minor": 5
}